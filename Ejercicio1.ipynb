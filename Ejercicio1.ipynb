{
 "cells": [
  {
   "cell_type": "code",
   "execution_count": null,
   "metadata": {},
   "outputs": [],
   "source": [
    "#  1. Agregar_producto(self, nombre, precio, cantidad): Este método agrega un producto al inventario o actualiza su cantidad si ya existe. \n",
    "# Debe recibir el nombre, precio y cantidad del producto como parámetros.\n",
    "#  Itera a través del inventario y compara los nombres de los productos con el nombre proporcionado.\n",
    "#  Si el producto ya existe, actualiza la cantidad. Es decir, a la cantidad que ya hay, le suma la que le hemos pasado. Y ya está.\n",
    "#  Si no existe, agrega un nuevo producto al inventario."
   ]
  }
 ],
 "metadata": {
  "language_info": {
   "name": "python"
  }
 },
 "nbformat": 4,
 "nbformat_minor": 2
}
